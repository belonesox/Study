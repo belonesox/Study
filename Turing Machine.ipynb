{
 "metadata": {
  "name": ""
 },
 "nbformat": 3,
 "nbformat_minor": 0,
 "worksheets": [
  {
   "cells": [
    {
     "cell_type": "markdown",
     "metadata": {},
     "source": [
      "\u0411\u0443\u0434\u0435\u043c \u0438\u0441\u043f\u043e\u043b\u044c\u0437\u043e\u0432\u0430\u0442\u044c \u0441\u043b\u0435\u0434\u0443\u044e\u0449\u0438\u0439 \u0441\u0438\u043c\u0443\u043b\u044f\u0442\u043e\u0440 \u043c\u0430\u0448\u0438\u043d\u044b \u0422\u044c\u044e\u0440\u0438\u043d\u0433\u0430"
     ]
    },
    {
     "cell_type": "code",
     "collapsed": false,
     "input": [
      "def execute_turing_machine(mt, tape_in):\n",
      "    T = mt['program'] # \u043f\u0440\u043e\u0433\u0440\u0430\u043c\u043c\u0430/\u0442\u0430\u0431\u043b\u0438\u0446\u0430 \u043f\u0435\u0440\u0435\u0445\u043e\u0434\u043e\u0432\n",
      "    tape = ['*'] + tape_in # \u0434\u043e\u043f\u0438\u0441\u044b\u0432\u0430\u0435\u043c \u043f\u0440\u043e\u0431\u0435\u043b \u0441\u043b\u0435\u0432\u0430 \u043e\u0442 \u0432\u0445\u043e\u0434\u0430\n",
      "    state = mt['start'] # \u043d\u0430\u0447\u0430\u043b\u044c\u043d\u043e\u0435 \u0441\u043e\u0441\u0442\u043e\u044f\u043d\u0438\u0435\n",
      "    position = 1 # \u043f\u043e\u043b\u043e\u0436\u0435\u043d\u0438\u0435 \u0433\u043e\u043b\u043e\u0432\u043a\u0438\n",
      "    step = 0 # \u0441\u0447\u0435\u0442\u0447\u0438\u043a \u0442\u0430\u043a\u0442\u043e\u0432\n",
      "    while state != mt['stop'] and step < 1000:\n",
      "        step += 1\n",
      "        if position >= len(tape): # \u043f\u043e\u0442\u0435\u043d\u0446\u0438\u0430\u043b\u044c\u043d\u0430\u044f \u0431\u0435\u0441\u043a\u043e\u043d\u0435\u0447\u043d\u043e\u0441\u0442\u044c\n",
      "            tape.append('*') # \u043b\u0435\u043d\u0442\u044b\n",
      "        symbol = tape[position]\n",
      "        state, (symbol_to_write, move) = T[(state, (symbol))][:2]\n",
      "        tape[position] = symbol_to_write\n",
      "        if move == 'L':\n",
      "            position -= 1\n",
      "        if move == 'R':\n",
      "            position += 1\n",
      "    return tape"
     ],
     "language": "python",
     "metadata": {},
     "outputs": [],
     "prompt_number": 1
    },
    {
     "cell_type": "markdown",
     "metadata": {},
     "source": [
      "\u041e\u0442\u043b\u0438\u0447\u0438\u0435 \u043e\u0442 \u0440\u0435\u0430\u043b\u0438\u0437\u0430\u0446\u0438\u0438 \u0438\u0437 \u043b\u0435\u043a\u0446\u0438\u0438 \u0442\u043e\u043b\u044c\u043a\u043e \u0432 \u0442\u043e\u043c, \u0447\u0442\u043e \u043d\u0430\u043c \u043f\u043e\u0434\u0442\u0440\u0435\u0431\u0443\u0435\u0442\u0441\u044f \u043b\u0435\u043d\u0442\u0430 \u043f\u043e\u0441\u043b\u0435 \u0437\u0430\u0432\u0435\u0440\u0448\u0435\u043d\u0438\u044f \u0440\u0430\u0431\u043e\u0442\u044b \u043f\u0440\u043e\u0433\u0440\u0430\u043c\u043c\u044b, \u0434\u043b\u044f \u043d\u0435\u0431\u043e\u043b\u044c\u0448\u043e\u0433\u043e \u0442\u0435\u0441\u0442\u0438\u0440\u0432\u0430\u043d\u0438\u044f \u043a\u043e\u0440\u0440\u0435\u043a\u0442\u043d\u043e\u0441\u0442\u0438 \u0440\u0430\u0431\u043e\u0442\u044b \u043f\u0440\u043e\u0440\u0430\u043c\u043c\u044b."
     ]
    },
    {
     "cell_type": "markdown",
     "metadata": {},
     "source": [
      "\u041f\u0440\u043e\u0433\u0440\u0430\u043c\u043c\u0430 \u0434\u043b\u044f \u043c\u0430\u0448\u0438\u043d\u044b \u0422\u044c\u044e\u0440\u0438\u043d\u0433\u0430"
     ]
    },
    {
     "cell_type": "code",
     "collapsed": false,
     "input": [
      "MT = {\n",
      "    'k': 1, #Number of \n",
      "    'start': 'S1', #Initial Position\n",
      "    'stop': 'Q', #Terminal Position\n",
      "    'program': {\n",
      "    ('S1', ('0')): ('S2', (('*', 'R'))),   #Checking first letter\n",
      "    ('S1', ('1')): ('S3', (('*', 'R'))),\n",
      "    ('S1', ('*')): ('Q', (('*', ''))),\n",
      "    ('S2', ('0')): ('S2', (('0', 'R'))),   #Go to the last letter\n",
      "    ('S2', ('1')): ('S2', (('1', 'R'))),\n",
      "    ('S2', ('*')): ('S4', (('*', 'L'))),\n",
      "    ('S3', ('0')): ('S3', (('0', 'R'))),  \n",
      "    ('S3', ('1')): ('S3', (('1', 'R'))),\n",
      "    ('S3', ('*')): ('S5', (('*', 'L'))),\n",
      "    ('S4', ('0')): ('S6', (('*', 'L'))),   #Check if last letter is 0\n",
      "    ('S4', ('1')): ('Q', (('1', ''))),\n",
      "    ('S5', ('0')): ('Q', (('0', ''))),\n",
      "    ('S4', ('*')): ('Q', (('*', ''))),\n",
      "    ('S5', ('*')): ('Q', (('*', ''))),     #Check if last letter is 1\n",
      "    ('S5', ('1')): ('S6', (('*', 'L'))),\n",
      "    ('S6', ('0')): ('S7', (('*', 'L'))),   #Checking last letter\n",
      "    ('S6', ('1')): ('S8', (('*', 'L'))),\n",
      "    ('S6', ('*')): ('Q', (('*', ''))),\n",
      "    ('S7', ('1')): ('S7', (('1', 'L'))),   #Go tho the first letter\n",
      "    ('S7', ('0')): ('S7', (('0', 'L'))),\n",
      "    ('S7', ('*')): ('S9', (('*', 'R'))),\n",
      "    ('S8', ('1')): ('S8', (('1', 'L'))),   \n",
      "    ('S8', ('0')): ('S8', (('0', 'L'))),\n",
      "    ('S8', ('*')): ('S10', (('*', 'R'))),\n",
      "    ('S9', ('0')): ('S1', (('*', 'R'))),   #Check if first letter is 0\n",
      "    ('S9', ('1')): ('Q', (('1', ''))),\n",
      "    ('S9', ('*')): ('Q', (('*', ''))),\n",
      "    ('S10', ('0')): ('Q', (('0', ''))),    #Check if first lettet is 1\n",
      "    ('S10', ('1')): ('S1', (('*', 'R'))),\n",
      "    ('S10', ('*')): ('Q', (('*', '')))\n",
      "}}\n"
     ],
     "language": "python",
     "metadata": {},
     "outputs": [],
     "prompt_number": 2
    },
    {
     "cell_type": "markdown",
     "metadata": {},
     "source": [
      "\u0420\u0430\u0441\u0441\u043c\u043e\u0442\u0440\u0438\u043c \u043d\u0435\u0441\u043a\u043e\u043b\u044c\u043a\u043e \u043f\u0440\u0438\u043c\u0435\u0440\u043e\u0432. \u0417\u0430\u0442\u0440\u043e\u043d\u0435\u043c \u0441\u043b\u0435\u0434\u0443\u044e\u0449\u0438\u0435 \u0441\u043b\u0443\u0447\u0430\u0438. \u0427\u0435\u0442\u043d\u043e\u0435 \u043a\u043e\u043b\u0438\u0447\u0435\u0441\u0442\u0432\u043e \u0431\u0443\u043a\u0432, \u043d\u0435\u0447\u0435\u0442\u043d\u043e\u0435 \u043a\u043e\u043b\u0438\u0447\u0435\u0441\u0442\u0432\u043e \u0431\u0443\u043a\u0432. \u041f\u0435\u0440\u0432\u044b\u0439 \u0441\u0438\u043c\u0432\u043e\u043b 1, \u043f\u0435\u0440\u0432\u044b\u0439 \u0441\u0438\u043c\u0432\u043e\u043b 0, \u0441\u043b\u043e\u0432\u043e \u0438\u0437 2, \u0441\u0438\u0432\u043e\u043b\u043e\u0432, \u0441\u043b\u043e\u0432\u043e \u0438\u0437 1 \u0441\u0438\u043c\u0432\u043e\u043b\u0430. \u0418 \u0432\u0441\u0435\u0432\u043e\u0437\u043c\u043e\u0436\u043d\u044b\u0435 \u0432\u0430\u0440\u0438\u0430\u0446\u0438\u0438 \u044d\u0442\u0438\u0445 \u0441\u0438\u0442\u0443\u0430\u0446\u0438\u0439."
     ]
    },
    {
     "cell_type": "code",
     "collapsed": false,
     "input": [
      "words =  ['001100',\n",
      "          '110011',\n",
      "          '11011',\n",
      "          '00100',\n",
      "          '0',\n",
      "          '1',\n",
      "          '11',\n",
      "          '00',\n",
      "          '10',\n",
      "          '01',\n",
      "          '110',\n",
      "          '011',\n",
      "          '1110']\n",
      "is_palindrom = [True] * 8 + [False] * 5"
     ],
     "language": "python",
     "metadata": {},
     "outputs": [],
     "prompt_number": 10
    },
    {
     "cell_type": "markdown",
     "metadata": {},
     "source": [
      "\u0422\u0435\u043f\u0435\u0440\u044c \u043f\u0440\u043e\u0432\u0435\u0440\u0438\u043c \u0440\u0435\u0437\u0443\u043b\u044c\u0442\u0430\u0442\u044b \u0440\u0430\u0431\u043e\u0442\u044b \u043f\u0440\u043e\u0433\u0440\u0430\u043c\u043c\u044b \u043d\u0430 \u044d\u0442\u0438\u0445 \u0441\u043b\u043e\u0432\u0430\u0445. \u0415\u0441\u043b\u0438 \u043b\u0435\u043d\u0442\u0430 \u043f\u0443\u0441\u0442\u0430, \u0437\u043d\u0430\u0447\u0438\u0442 \u0441\u043b\u043e\u0432\u043e \u044f\u0432\u043b\u044f\u0435\u0442\u0441\u044f \u043f\u0430\u043b\u0438\u043d\u0434\u0440\u043e\u043c\u043e\u043c, \u0435\u0441\u043b\u0438 \u0436\u0435 \u043e\u0441\u0442\u0430\u043b\u0438\u0441\u044c \u043e\u0442\u043b\u0438\u0447\u043d\u044b\u0435 \u043e\u0442 \u043f\u0440\u043e\u0431\u0435\u043b\u043e\u0432 \u0441\u0438\u043c\u0432\u043e\u043b\u044b, \u0442\u043e \u0441\u043b\u043e\u0432\u043e \u043f\u0430\u043b\u0438\u043d\u0434\u0440\u043e\u043c\u043e\u043c \u043d\u0435 \u044f\u0432\u043b\u044f\u0435\u0442\u0441\u044f."
     ]
    },
    {
     "cell_type": "code",
     "collapsed": false,
     "input": [
      "for index, word in enumerate(words):\n",
      "    tape_out = execute_turing_machine(MT, list(word)) \n",
      "    correctness = 'correct' if all([elem == '*' for elem in tape_out]) == is_palindrom[index] else 'error'\n",
      "    print tape_out, word, correctness"
     ],
     "language": "python",
     "metadata": {},
     "outputs": [
      {
       "output_type": "stream",
       "stream": "stdout",
       "text": [
        "['*', '*', '*', '*', '*', '*', '*', '*'] 001100 correct\n",
        "['*', '*', '*', '*', '*', '*', '*', '*'] 110011 correct\n",
        "['*', '*', '*', '*', '*', '*', '*'] 11011 correct\n",
        "['*', '*', '*', '*', '*', '*', '*'] 00100 correct\n",
        "['*', '*', '*'] 0 correct\n",
        "['*', '*', '*'] 1 correct\n",
        "['*', '*', '*', '*'] 11 correct\n",
        "['*', '*', '*', '*'] 00 correct\n",
        "['*', '*', '0', '*'] 10 correct\n",
        "['*', '*', '1', '*'] 01 correct\n",
        "['*', '*', '1', '0', '*'] 110 correct\n",
        "['*', '*', '1', '1', '*'] 011 correct\n",
        "['*', '*', '1', '1', '0', '*'] 1110 correct\n"
       ]
      }
     ],
     "prompt_number": 18
    },
    {
     "cell_type": "markdown",
     "metadata": {},
     "source": [
      "\u041d\u0430 \u0434\u0430\u043d\u043d\u044b\u0445 \u043f\u0440\u0438\u043c\u0435\u0440\u0430\u0445 \u043f\u0440\u043e\u0433\u0440\u0430\u043c\u043c\u0430 \u0432\u044b\u043f\u043e\u043b\u043d\u0438\u043b\u0430\u0441\u044c \u043a\u043e\u0440\u0440\u0435\u043a\u0442\u043d\u043e."
     ]
    }
   ],
   "metadata": {}
  }
 ]
}