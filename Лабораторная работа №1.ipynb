{
 "metadata": {
  "name": "",
  "signature": "sha256:cfe840bab66441e84ae972a5b637b7ef19203db3235e33e5c25a33a6459f0060"
 },
 "nbformat": 3,
 "nbformat_minor": 0,
 "worksheets": [
  {
   "cells": [
    {
     "cell_type": "heading",
     "level": 1,
     "metadata": {},
     "source": [
      "Importing Routine and Loading Data"
     ]
    },
    {
     "cell_type": "code",
     "collapsed": false,
     "input": [
      "import pandas as pd\n",
      "from sklearn.cross_validation import train_test_split\n",
      "from sklearn.metrics import accuracy_score\n",
      "from sklearn.ensemble import BaggingRegressor, AdaBoostRegressor, ExtraTreesRegressor\n",
      "from sklearn.ensemble import GradientBoostingRegressor, RandomForestRegressor\n",
      "from sklearn.metrics import mean_squared_error\n",
      "from sklearn.linear_model import LinearRegression\n",
      "try:\n",
      "    style.use('ggplot')\n",
      "except:\n",
      "    pass\n",
      "%pylab inline"
     ],
     "language": "python",
     "metadata": {},
     "outputs": [
      {
       "output_type": "stream",
       "stream": "stdout",
       "text": [
        "Populating the interactive namespace from numpy and matplotlib\n"
       ]
      }
     ],
     "prompt_number": 1
    },
    {
     "cell_type": "markdown",
     "metadata": {},
     "source": [
      "\u0421\u0447\u0438\u0442\u0430\u0435\u043c \u0434\u0430\u043d\u043d\u044b\u0435 \u0438\u0437 \u0444\u0430\u0439\u043b\u0430 \u0438 \u0440\u0430\u0437\u043e\u0431\u044c\u0435\u043c \u043d\u0430 \u043e\u0431\u0443\u0447\u0430\u044e\u0449\u0443\u044e \u0438 \u0442\u0435\u0441\u0442\u043e\u0432\u043e\u0443\u044e \u0432\u044b\u0431\u043e\u0440\u043a\u0443."
     ]
    },
    {
     "cell_type": "code",
     "collapsed": false,
     "input": [
      "data = pd.read_csv('blogData_train.csv')\n",
      "train_x, test_x, train_y, test_y = train_test_split(data.iloc[:, :-1], data.iloc[:, -1], train_size=0.1)"
     ],
     "language": "python",
     "metadata": {},
     "outputs": [],
     "prompt_number": 2
    },
    {
     "cell_type": "heading",
     "level": 1,
     "metadata": {},
     "source": [
      "Bagging"
     ]
    },
    {
     "cell_type": "code",
     "collapsed": false,
     "input": [
      "clf = BaggingRegressor(n_estimators=2000)\n",
      "clf.fit(train_x, train_y)"
     ],
     "language": "python",
     "metadata": {},
     "outputs": [
      {
       "metadata": {},
       "output_type": "pyout",
       "prompt_number": 3,
       "text": [
        "BaggingRegressor(base_estimator=None, bootstrap=True,\n",
        "         bootstrap_features=False, max_features=1.0, max_samples=1.0,\n",
        "         n_estimators=2000, n_jobs=1, oob_score=False, random_state=None,\n",
        "         verbose=0)"
       ]
      }
     ],
     "prompt_number": 3
    },
    {
     "cell_type": "markdown",
     "metadata": {},
     "source": [
      "\u0420\u0430\u0441\u0441\u043c\u043e\u0442\u0440\u0438\u043c \u043a\u0430\u043a \u043a\u043e\u043b\u0438\u0447\u0435\u0441\u0442\u0432\u043e \u0431\u0430\u0437\u043e\u0432\u044b\u0445 \u043a\u043b\u0430\u0441\u0441\u0438\u0444\u0438\u043a\u0430\u0442\u043e\u0440\u043e\u0432 \u0432\u043b\u0438\u044f\u0435\u0442 \u043d\u0430 \u043a\u0430\u0447\u0435\u0441\u0442\u0432\u043e \u043f\u0440\u043e\u0433\u043d\u043e\u0437\u0430:"
     ]
    },
    {
     "cell_type": "code",
     "collapsed": false,
     "input": [
      "all_errors = []\n",
      "all_varians =[]\n",
      "base_predictions = []\n",
      "step = 50\n",
      "for estimators_count in range(50, 2000, step):\n",
      "    base_predictions += [x.predict(test_x) for x in \n",
      "                    clf.estimators_[estimators_count - step:estimators_count]]\n",
      "    prediction = mean(array(base_predictions), axis=0)\n",
      "    all_errors.append(mean_squared_error(test_y, prediction))\n",
      "    all_varians.append(std(array(base_predictions), axis=0))"
     ],
     "language": "python",
     "metadata": {},
     "outputs": [],
     "prompt_number": 4
    },
    {
     "cell_type": "code",
     "collapsed": false,
     "input": [
      "plot(range(50, 2000, step), all_errors)\n",
      "fill_between(range(50, 2000, step), all_errors - mean(all_varians, axis=1),\n",
      "             all_errors + mean(all_varians, axis=1), alpha=0.1)\n",
      "xlabel('Estimators Count')\n",
      "ylabel('MSE')\n",
      "grid(True)"
     ],
     "language": "python",
     "metadata": {},
     "outputs": [
      {
       "metadata": {},
       "output_type": "display_data",
       "png": "[encoded data removed]",
       "text": [
        "<matplotlib.figure.Figure at 0x7f2b95e89510>"
       ]
      }
     ],
     "prompt_number": 5
    },
    {
     "cell_type": "markdown",
     "metadata": {},
     "source": [
      "\u0418\u0437 \u0433\u0440\u0430\u0444\u0438\u043a\u0430 \u0432\u0438\u0434\u043d\u043e, \u0447\u0442\u043e \u043f\u0440\u0438 \u0447\u0438\u0441\u043b\u0435 \u0431\u0430\u0437\u043e\u0432\u044b\u0445 \u043a\u043b\u0430\u0441\u0441\u0438\u0444\u0438\u043a\u0430\u0442\u043e\u0440\u043e\u0432 \u043f\u043e\u0440\u044f\u0434\u043a\u0430 1000, \u0440\u0435\u0437\u0443\u043b\u044c\u0442\u0430\u0442 \u0441\u0442\u0430\u0431\u0438\u043b\u0438\u0437\u0438\u0440\u0443\u0435\u0442\u0441\u044f. \u0414\u043b\u044f \u0434\u0430\u043b\u044c\u043d\u0435\u0439\u0448\u0438\u0445 \u044d\u043a\u0441\u043f\u0435\u0440\u0438\u043c\u0435\u043d\u0442\u043e\u0432 \u0441 \u0440\u0430\u0437\u043c\u0435\u0440\u043e\u043c \u043f\u0440\u0438\u0437\u043d\u0430\u043a\u043e\u0432\u043e\u0433\u043e \u043f\u0440\u043e\u0441\u0442\u0440\u0430\u043d\u0441\u0442\u0432\u0430 \u0438 \u0440\u0430\u0437\u043c\u0435\u0440\u0430 \u043f\u043e\u0434\u0432\u044b\u0431\u043e\u0440\u043a\u0438 \u0431\u0443\u0434\u0435\u043c \u0438\u0441\u043f\u043e\u043b\u044c\u0437\u043e\u0432\u0430\u0442\u044c \u0438\u043c\u0435\u043d\u043d\u043e \u044d\u0442\u043e \u0437\u043d\u0430\u0447\u0435\u043d\u0438\u0435."
     ]
    },
    {
     "cell_type": "code",
     "collapsed": false,
     "input": [
      "all_rsm_size = arange(0.1, 1.0, 0.1)\n",
      "all_errors = []\n",
      "for rsm_size in all_rsm_size:\n",
      "    clf = BaggingRegressor(n_estimators=500, max_features=rsm_size, n_jobs=4)\n",
      "    clf.fit(train_x, train_y)\n",
      "    prediction = clf.predict(test_x)\n",
      "    all_errors.append(mean_squared_error(test_y, prediction))"
     ],
     "language": "python",
     "metadata": {},
     "outputs": [],
     "prompt_number": 6
    },
    {
     "cell_type": "code",
     "collapsed": false,
     "input": [
      "plot(all_rsm_size, all_errors)\n",
      "xlabel('RSM size')\n",
      "ylabel('MSE')"
     ],
     "language": "python",
     "metadata": {},
     "outputs": [
      {
       "metadata": {},
       "output_type": "pyout",
       "prompt_number": 7,
       "text": [
        "<matplotlib.text.Text at 0x7f2b95dc1a50>"
       ]
      },
      {
       "metadata": {},
       "output_type": "display_data",
       "png": "[encoded data removed]",
       "text": [
        "<matplotlib.figure.Figure at 0x7f2b95e7efd0>"
       ]
      }
     ],
     "prompt_number": 7
    },
    {
     "cell_type": "markdown",
     "metadata": {},
     "source": [
      "\u0418\u0437 \u0433\u0440\u0430\u0444\u0438\u043a\u0430 \u0432\u0438\u0434\u043d\u043e \u0447\u0442\u043e \u0438\u0441\u043f\u043e\u043b\u044c\u0437\u043e\u0432\u0430\u0442\u044c \u0431\u043e\u043b\u044c\u0448\u0435 0.6 \u043e\u0442 \u0432\u0441\u0435 \u043f\u0440\u0438\u0437\u043d\u0430\u043a\u043e\u0432 \u043d\u0435 \u0438\u043c\u0435\u0435\u0442 \u0441\u043c\u044b\u0441\u043b\u0430."
     ]
    },
    {
     "cell_type": "code",
     "collapsed": false,
     "input": [
      "all_sample_size = arange(0.1, 1.0, 0.1)\n",
      "all_errors = []\n",
      "for sample_size in all_rsm_size:\n",
      "    clf = BaggingRegressor(n_estimators=500,max_features=0.6, \n",
      "                           max_samples=sample_size, n_jobs=4)\n",
      "    clf.fit(train_x, train_y)\n",
      "    prediction = clf.predict(test_x)\n",
      "    all_errors.append(mean_squared_error(test_y, prediction))"
     ],
     "language": "python",
     "metadata": {},
     "outputs": [],
     "prompt_number": 8
    },
    {
     "cell_type": "code",
     "collapsed": false,
     "input": [
      "plot(all_sample_size, all_errors)\n",
      "xlabel('Sample Size')\n",
      "ylabel('MSE')"
     ],
     "language": "python",
     "metadata": {},
     "outputs": [
      {
       "metadata": {},
       "output_type": "pyout",
       "prompt_number": 9,
       "text": [
        "<matplotlib.text.Text at 0x7f2b94369b10>"
       ]
      },
      {
       "metadata": {},
       "output_type": "display_data",
       "png": "[encoded data removed]",
       "text": [
        "<matplotlib.figure.Figure at 0x7f2b9442dc50>"
       ]
      }
     ],
     "prompt_number": 9
    },
    {
     "cell_type": "heading",
     "level": 1,
     "metadata": {},
     "source": [
      "Random Forest"
     ]
    },
    {
     "cell_type": "code",
     "collapsed": false,
     "input": [
      "clf = RandomForestRegressor(n_estimators=2000, n_jobs=4)\n",
      "clf.fit(train_x, train_y)"
     ],
     "language": "python",
     "metadata": {},
     "outputs": [
      {
       "metadata": {},
       "output_type": "pyout",
       "prompt_number": 10,
       "text": [
        "RandomForestRegressor(bootstrap=True, criterion='mse', max_depth=None,\n",
        "           max_features='auto', max_leaf_nodes=None, min_samples_leaf=1,\n",
        "           min_samples_split=2, min_weight_fraction_leaf=0.0,\n",
        "           n_estimators=2000, n_jobs=3, oob_score=False, random_state=None,\n",
        "           verbose=0, warm_start=False)"
       ]
      }
     ],
     "prompt_number": 10
    },
    {
     "cell_type": "markdown",
     "metadata": {},
     "source": [
      "\u0420\u0430\u0441\u0441\u043c\u043e\u0442\u0440\u0438\u043c, \u043a\u0430\u043a \u043a\u043e\u043b\u0438\u0447\u0435\u0441\u0442\u0432\u043e \u0431\u0430\u0437\u043e\u0432\u044b\u0445 \u043a\u043b\u0430\u0441\u0441\u0438\u0444\u0438\u043a\u0430\u0442\u043e\u0440\u043e\u0432 \u0432\u043b\u0438\u044f\u0435\u0442 \u043d\u0430 \u043a\u0430\u0447\u0435\u0441\u0442\u0432\u043e \u043f\u0440\u0435\u0434\u0441\u043a\u0430\u0437\u0430\u043d\u0438\u044f"
     ]
    },
    {
     "cell_type": "code",
     "collapsed": false,
     "input": [
      "all_errors = []\n",
      "all_varians =[]\n",
      "base_predictions = []\n",
      "step = 50\n",
      "for estimators_count in range(50, 2000, step):\n",
      "    base_predictions += [x.predict(test_x) for x in \n",
      "                    clf.estimators_[estimators_count - step:estimators_count]]\n",
      "    prediction = mean(array(base_predictions), axis=0)\n",
      "    all_errors.append(mean_squared_error(test_y, prediction))\n",
      "    all_varians.append(std(array(base_predictions), axis=0))"
     ],
     "language": "python",
     "metadata": {},
     "outputs": [],
     "prompt_number": 11
    },
    {
     "cell_type": "code",
     "collapsed": false,
     "input": [
      "plot(range(50, 2000, step), all_errors)\n",
      "fill_between(range(50, 2000, step), all_errors - mean(all_varians, axis=1),\n",
      "             all_errors + mean(all_varians, axis=1), alpha=0.1)\n",
      "xlabel('Estimators Count')\n",
      "ylabel('MSE')\n",
      "grid(True)"
     ],
     "language": "python",
     "metadata": {},
     "outputs": [
      {
       "metadata": {},
       "output_type": "display_data",
       "png": "[encoded data removed]",
       "text": [
        "<matplotlib.figure.Figure at 0x7f2b942b8590>"
       ]
      }
     ],
     "prompt_number": 12
    },
    {
     "cell_type": "markdown",
     "metadata": {},
     "source": [
      "\u0420\u0430\u0441\u0441\u043c\u043e\u0442\u0440\u0438\u043c, \u043a\u0430\u043a RSM \u0432\u043b\u0438\u044f\u0435\u0442 \u043d\u0430 \u043a\u0430\u0447\u0435\u0441\u0442\u0432\u043e \u043f\u0440\u0435\u0434\u0441\u043a\u0430\u0437\u0430\u043d\u0438\u044f"
     ]
    },
    {
     "cell_type": "code",
     "collapsed": false,
     "input": [
      "all_rsm_size = arange(0.1, 1.0, 0.1)\n",
      "all_errors = []\n",
      "for rsm_size in all_rsm_size:\n",
      "    clf = RandomForestRegressor(n_estimators=1000, max_features=rsm_size, n_jobs=4)\n",
      "    clf.fit(train_x, train_y)\n",
      "    prediction = clf.predict(test_x)\n",
      "    all_errors.append(mean_squared_error(test_y, prediction))"
     ],
     "language": "python",
     "metadata": {},
     "outputs": [],
     "prompt_number": 13
    },
    {
     "cell_type": "code",
     "collapsed": false,
     "input": [
      "plot(all_rsm_size, all_errors)\n",
      "xlabel('RSM size')\n",
      "ylabel('MSE')"
     ],
     "language": "python",
     "metadata": {},
     "outputs": [
      {
       "metadata": {},
       "output_type": "pyout",
       "prompt_number": 14,
       "text": [
        "<matplotlib.text.Text at 0x7f2b941f7850>"
       ]
      },
      {
       "metadata": {},
       "output_type": "display_data",
       "png": "[encoded data removed]",
       "text": [
        "<matplotlib.figure.Figure at 0x7f2b941d2d50>"
       ]
      }
     ],
     "prompt_number": 14
    },
    {
     "cell_type": "heading",
     "level": 1,
     "metadata": {},
     "source": [
      "Extremely Randomized Trees Ensemble"
     ]
    },
    {
     "cell_type": "code",
     "collapsed": false,
     "input": [
      "clf = ExtraTreesRegressor(n_estimators=2000, n_jobs=4)\n",
      "clf.fit(train_x, train_y)"
     ],
     "language": "python",
     "metadata": {},
     "outputs": [
      {
       "metadata": {},
       "output_type": "pyout",
       "prompt_number": 15,
       "text": [
        "ExtraTreesRegressor(bootstrap=False, criterion='mse', max_depth=None,\n",
        "          max_features='auto', max_leaf_nodes=None, min_samples_leaf=1,\n",
        "          min_samples_split=2, min_weight_fraction_leaf=0.0,\n",
        "          n_estimators=2000, n_jobs=3, oob_score=False, random_state=None,\n",
        "          verbose=0, warm_start=False)"
       ]
      }
     ],
     "prompt_number": 15
    },
    {
     "cell_type": "markdown",
     "metadata": {},
     "source": [
      "\u0420\u0430\u0441\u0441\u043c\u043e\u0442\u0440\u0438\u043c \u043a\u0430\u043a \u043d\u0430 \u043a\u0430\u0447\u0435\u0441\u0442\u0432\u043e \u043f\u0440\u043e\u0433\u043d\u043e\u0437\u0430 \u0432\u043b\u0438\u044f\u0435\u0442 \u043a\u043e\u043b\u0438\u0447\u0435\u0441\u0442\u0432\u043e \u0431\u0430\u0437\u043e\u0432\u044b\u0445 \u0430\u043b\u0433\u043e\u0440\u0438\u0442\u043c\u043e\u0432"
     ]
    },
    {
     "cell_type": "code",
     "collapsed": false,
     "input": [
      "all_errors = []\n",
      "all_varians =[]\n",
      "base_predictions = []\n",
      "step = 50\n",
      "for estimators_count in range(50, 2000, step):\n",
      "    base_predictions += [x.predict(test_x) for x in \n",
      "                    clf.estimators_[estimators_count - step:estimators_count]]\n",
      "    prediction = mean(array(base_predictions), axis=0)\n",
      "    all_errors.append(mean_squared_error(test_y, prediction))\n",
      "    all_varians.append(std(array(base_predictions), axis=0))"
     ],
     "language": "python",
     "metadata": {},
     "outputs": [],
     "prompt_number": 17
    },
    {
     "cell_type": "code",
     "collapsed": false,
     "input": [
      "plot(range(50, 2000, step), all_errors)\n",
      "fill_between(range(50, 2000, step), all_errors - mean(all_varians, axis=1),\n",
      "             all_errors + mean(all_varians, axis=1), alpha=0.1)\n",
      "xlabel('Estimators Count')\n",
      "ylabel('MSE')\n",
      "grid(True)"
     ],
     "language": "python",
     "metadata": {},
     "outputs": [
      {
       "metadata": {},
       "output_type": "display_data",
       "png": "[encoded data removed]",
       "text": [
        "<matplotlib.figure.Figure at 0x7f2b840f3910>"
       ]
      }
     ]
    },
    {
     "cell_type": "markdown",
     "metadata": {},
     "source": [
      "\u0420\u0430\u0441\u0441\u043c\u043e\u0442\u0440\u0438\u043c, \u043a\u0430\u043a RSM \u0432\u043b\u0438\u044f\u0435\u0442 \u043d\u0430 \u043a\u0430\u0447\u0435\u0441\u0442\u0432\u043e \u043f\u0440\u0435\u0434\u0441\u043a\u0430\u0437\u0430\u043d\u0438\u044f"
     ]
    },
    {
     "cell_type": "code",
     "collapsed": false,
     "input": [
      "all_rsm_size = arange(0.1, 1.1, 0.1)\n",
      "all_errors = []\n",
      "for rsm_size in all_rsm_size:\n",
      "    clf = ExtraTreesRegressor(n_estimators=800, max_features=rsm_size, n_jobs=4)\n",
      "    clf.fit(train_x, train_y)\n",
      "    prediction = clf.predict(test_x)\n",
      "    all_errors.append(mean_squared_error(test_y, prediction))"
     ],
     "language": "python",
     "metadata": {},
     "outputs": []
    },
    {
     "cell_type": "code",
     "collapsed": false,
     "input": [
      "plot(all_rsm_size, all_errors)\n",
      "xlabel('RSM size')\n",
      "ylabel('MSE')"
     ],
     "language": "python",
     "metadata": {},
     "outputs": []
    },
    {
     "cell_type": "heading",
     "level": 1,
     "metadata": {},
     "source": [
      "Gradient Boosting"
     ]
    },
    {
     "cell_type": "code",
     "collapsed": false,
     "input": [
      "clf = GradientBoostingRegressor(n_estimators=2000)\n",
      "clf.fit(train_x, train_y)"
     ],
     "language": "python",
     "metadata": {},
     "outputs": []
    },
    {
     "cell_type": "code",
     "collapsed": false,
     "input": [
      "all_errors = []\n",
      "all_varians =[]\n",
      "base_predictions = []\n",
      "base_estimators = []\n",
      "step = 50\n",
      "for estimators_count in range(50, 2000, step):\n",
      "    clf = GradientBoostingRegressor(n_estimators=estimators_count)\n",
      "    clf.fit(train_x, train_y)\n",
      "    prediction = clf.predict(test_x)\n",
      "    all_errors.append(mean_squared_error(test_y, prediction))"
     ],
     "language": "python",
     "metadata": {},
     "outputs": []
    },
    {
     "cell_type": "code",
     "collapsed": false,
     "input": [
      "plot(range(50, 2000, step), all_errors)\n",
      "xlabel('Estimators Count')\n",
      "ylabel('MSE')\n",
      "grid(True)"
     ],
     "language": "python",
     "metadata": {},
     "outputs": []
    },
    {
     "cell_type": "code",
     "collapsed": false,
     "input": [
      "all_rsm_size = arange(0.1, 1.1, 0.1)\n",
      "all_errors = []\n",
      "for rsm_size in all_rsm_size:\n",
      "    clf = ExtraTreesRegressor(n_estimators=50, max_features=rsm_size, n_jobs=4)\n",
      "    clf.fit(train_x, train_y)\n",
      "    prediction = clf.predict(test_x)\n",
      "    all_errors.append(mean_squared_error(test_y, prediction))"
     ],
     "language": "python",
     "metadata": {},
     "outputs": []
    },
    {
     "cell_type": "code",
     "collapsed": false,
     "input": [
      "plot(all_rsm_size, all_errors)\n",
      "xlabel('RSM size')\n",
      "ylabel('MSE')"
     ],
     "language": "python",
     "metadata": {},
     "outputs": []
    },
    {
     "cell_type": "heading",
     "level": 1,
     "metadata": {},
     "source": [
      "\u0421\u0440\u0430\u0432\u043d\u0435\u043d\u0438\u0435 OOB \u0438 MSE"
     ]
    },
    {
     "cell_type": "code",
     "collapsed": false,
     "input": [
      "all_errors = []\n",
      "oob_errors = []\n",
      "all_varians =[]\n",
      "base_predictions = []\n",
      "base_estimators = []\n",
      "step = 100\n",
      "for estimators_count in range(100, 1500, step):\n",
      "    clf = RandomForestRegressor(n_estimators=estimators_count, oob_score=True, n_jobs=4)\n",
      "    clf.fit(train_x, train_y)\n",
      "    prediction = clf.predict(test_x)\n",
      "    all_errors.append(mean_squared_error(test_y, prediction))\n",
      "    oob_errors.append(clf.oob_score_)"
     ],
     "language": "python",
     "metadata": {},
     "outputs": []
    },
    {
     "cell_type": "code",
     "collapsed": false,
     "input": [
      "subplot(211)\n",
      "plot(range(100, 1500, step), oob_errors)\n",
      "xlabel('Estimators count')\n",
      "ylabel('OOB')\n",
      "subplot(212)\n",
      "plot(range(100, 1500, step), all_errors)\n",
      "xlabel('Estimators count')\n",
      "ylabel('MSE')"
     ],
     "language": "python",
     "metadata": {},
     "outputs": []
    },
    {
     "cell_type": "heading",
     "level": 1,
     "metadata": {},
     "source": [
      "From Random Forest to Gradient Boosting"
     ]
    },
    {
     "cell_type": "code",
     "collapsed": false,
     "input": [
      "pre_clf = RandomForestRegressor(n_estimators=1000)\n",
      "pre_clf.fit(train_x, train_y)\n",
      "errors = train_y - pre_clf.predict(train_x)\n",
      "clf = GradientBoostingRegressor(n_estimators=50)\n",
      "clf.fit(train_x, errors)\n",
      "result = clf.predict(test_x) + pre_clf.predict(test_x)\n",
      "train_result = clf.predict(train_x) + pre_clf.predict(train_x)\n",
      "print \"Error = {}\".format(mean_squared_error(result, test_y))\n",
      "print \"Error Random Forest = {}\".format(mean_squared_error(pre_clf.predict(test_x), test_y))\n",
      "print \"Train Error Combination = {}\".format(mean_squared_error(train_result, train_y))\n",
      "print \"Train Error Random Forest = {}\".format(mean_squared_error(pre_clf.predict(train_x), train_y))"
     ],
     "language": "python",
     "metadata": {},
     "outputs": []
    },
    {
     "cell_type": "code",
     "collapsed": false,
     "input": [
      "pre_clf = LinearRegression()\n",
      "pre_clf.fit(train_x, train_y)\n",
      "errors = train_y - pre_clf.predict(train_x)\n",
      "clf = GradientBoostingRegressor(n_estimators=500)\n",
      "clf.fit(train_x, errors)\n",
      "result = clf.predict(test_x) + pre_clf.predict(test_x)\n",
      "train_result = clf.predict(train_x) + pre_clf.predict(train_x)\n",
      "print \"Error = {}\".format(mean_squared_error(result, test_y))\n",
      "print \"Error Random Forest = {}\".format(mean_squared_error(pre_clf.predict(test_x), test_y))\n",
      "print \"Train Error Combination = {}\".format(mean_squared_error(train_result, train_y))\n",
      "print \"Train Error Random Forest = {}\".format(mean_squared_error(pre_clf.predict(train_x), train_y))"
     ],
     "language": "python",
     "metadata": {},
     "outputs": []
    },
    {
     "cell_type": "code",
     "collapsed": false,
     "input": [
      "forest_train_x, boosting_train_x, forest_train_y, boosting_train_y = \\\n",
      "                                    train_test_split(train_x, train_y, train_size=0.5)\n",
      "\n"
     ],
     "language": "python",
     "metadata": {},
     "outputs": []
    },
    {
     "cell_type": "code",
     "collapsed": false,
     "input": [
      "pre_clf = LinearRegression()\n",
      "pre_clf.fit(forest_train_x, forest_train_y)\n",
      "clf = GradientBoostingRegressor(n_estimators=100)\n",
      "clf.fit(boosting_train_x, boosting_train_y - pre_clf.predict(boosting_train_x))\n",
      "result = clf.predict(test_x) + pre_clf.predict(test_x)\n",
      "train_result = clf.predict(train_x) + pre_clf.predict(train_x)\n",
      "print \"Error = {}\".format(mean_squared_error(result, test_y))\n",
      "print \"Error Random Forest = {}\".format(mean_squared_error(pre_clf.predict(test_x), test_y))\n",
      "print \"Train Error Combination = {}\".format(mean_squared_error(train_result, train_y))\n",
      "print \"Train Error Random Forest = {}\".format(mean_squared_error(pre_clf.predict(train_x), train_y))"
     ],
     "language": "python",
     "metadata": {},
     "outputs": []
    },
    {
     "cell_type": "code",
     "collapsed": false,
     "input": [
      "pre_clf =  RandomForestRegressor(n_estimators=1000)\n",
      "pre_clf.fit(forest_train_x, forest_train_y)\n",
      "clf = GradientBoostingRegressor(n_estimators=100)\n",
      "clf.fit(boosting_train_x, boosting_train_y - pre_clf.predict(boosting_train_x))\n",
      "result = clf.predict(test_x) + pre_clf.predict(test_x)\n",
      "train_result = clf.predict(train_x) + pre_clf.predict(train_x)\n",
      "print \"Error = {}\".format(mean_squared_error(result, test_y))\n",
      "print \"Error Random Forest = {}\".format(mean_squared_error(pre_clf.predict(test_x), test_y))\n",
      "print \"Train Error Combination = {}\".format(mean_squared_error(train_result, train_y))\n",
      "print \"Train Error Random Forest = {}\".format(mean_squared_error(pre_clf.predict(train_x), train_y))"
     ],
     "language": "python",
     "metadata": {},
     "outputs": []
    },
    {
     "cell_type": "markdown",
     "metadata": {},
     "source": [
      "\u0417\u0430\u043c\u0435\u0442\u0438\u043c, \u0447\u0442\u043e \u043a\u043e\u043c\u0431\u0438\u043d\u0430\u0446\u0438\u044f \u0433\u0440\u0430\u0434\u0438\u0435\u043d\u0442\u043d\u043e\u0433\u043e \u0431\u0443\u0441\u0442\u0438\u043d\u0433\u0430 \u0438 \u0434\u0440\u0443\u0433\u043e\u0433\u043e \u0430\u043b\u0433\u043e\u0440\u0438\u0442\u043c\u0430, \u0434\u0430\u0435\u0442 \u0431\u043e\u043b\u044c\u0448\u043e\u0439 \u043f\u0440\u0438\u0440\u043e\u0441\u0442 \u043d\u0430 \u043e\u0431\u0443\u0447\u0430\u044e\u0449\u0435\u0439 \u0432\u044b\u0431\u043e\u0440\u043a\u0435, \u043d\u0435\u0431\u043e\u043b\u044c\u0448\u043e\u0439 \u043f\u0440\u0438\u0440\u043e\u0441\u0442 \u0434\u043b\u044f \u043b\u0438\u043d\u0435\u0439\u043d\u043e\u0439 \u0440\u0435\u0433\u0440\u0435\u0441\u0441\u0438\u0438 \u0438 \u043d\u0438\u043a\u0430\u043a\u0438\u0445 \u0438\u0437\u043c\u0435\u043d\u0435\u043d\u0438\u0439 \u0434\u043b\u044f \u0441\u043b\u0443\u0447\u0430\u0439\u043d\u043e\u0433\u043e \u043b\u0435\u0441\u0430. \u0412\u0435\u0440\u043e\u044f\u0442\u043d\u043e \u0433\u0440\u0430\u0434\u0438\u0435\u043d\u0442\u043d\u044b\u0439 \u0431\u0443\u0441\u0442\u0438\u043d\u0433 \u043f\u0435\u0440\u0435\u043e\u0431\u0443\u0447\u0430\u0435\u0442\u0441\u044f \u0438 \u043f\u043e\u0434\u0441\u0442\u0440\u0430\u0435\u0432\u0430\u0435\u0442\u0441\u044f \u043f\u043e\u0434 \u0448\u0443\u043c. \u041f\u0440\u0438\u0447\u0435\u043c \u0447\u0435\u043c \u043b\u0443\u0447\u0448\u0435 \u043f\u0440\u0438\u0431\u043b\u0438\u0436\u0435\u043d\u0438\u0435, \u0442\u0435\u043c \u0431\u043e\u043b\u044c\u0448\u0435 \u0432 \u0434\u0430\u043d\u043d\u044b\u0445 \u0441\u043b\u0443\u0447\u0430\u0439\u043d\u043e\u0433\u043e \u0448\u0443\u043c\u0430, \u043d\u0430 \u043a\u043e\u0442\u043e\u0440\u044b\u0439 \u043d\u0430\u0441\u0442\u0440\u0430\u0438\u0432\u0430\u0435\u0442\u0441\u044f \u0431\u0443\u0441\u0442\u0438\u043d\u0433."
     ]
    },
    {
     "cell_type": "heading",
     "level": 1,
     "metadata": {},
     "source": [
      "Linear Combination"
     ]
    },
    {
     "cell_type": "markdown",
     "metadata": {},
     "source": [
      "\u0421\u0440\u0430\u0432\u043d\u0438\u043c \u0434\u0432\u0430 \u043f\u043e\u0434\u0445\u043e\u0434\u0430, \u0432 \u043e\u0434\u043d\u043e\u043c \u043e\u0431\u0443\u0447\u0435\u043d\u0438\u0435 \u0438 \u043a\u043e\u043c\u0431\u0438\u043d\u0430\u0446\u0438\u044f \u0431\u0443\u0434\u0443\u0442 \u043f\u0440\u043e\u0432\u043e\u0434\u0438\u0442\u0441\u044f \u043d\u0430 \u043e\u0434\u043d\u043e\u0439 \u0438 \u0442\u043e\u0439 \u0436\u0435 \u0432\u044b\u0431\u043e\u0440\u043a\u0435, \u0432 \u0434\u0440\u0443\u0433\u043e\u043c \u043f\u0430\u0440\u0430\u043c\u0435\u0442\u0440\u044b \u043a\u043e\u043c\u0431\u0438\u043d\u0430\u0446\u0438\u0438 \u0431\u0443\u0434\u0435\u0442 \u043f\u043e\u0434\u0431\u0438\u0440\u0430\u0442\u044c\u0441\u044f \u043d\u0430 \u0437\u0430\u0440\u0430\u043d\u0435\u0435 \u0432\u044b\u0434\u0435\u043b\u0435\u043d\u043d\u043e\u0439 \u0432\u044b\u0431\u043e\u0440\u043a\u0435"
     ]
    },
    {
     "cell_type": "code",
     "collapsed": false,
     "input": [
      "class CombineClassifier(object):\n",
      "    \n",
      "    def __init__(self, random_forest_estimators=1000, random_forest_features = 1.0,\n",
      "                 gradient_boosting_estimators=100, first_classifier=\"RandomForest\"):\n",
      "        if first_classifier == \"RandomForest\":\n",
      "            self.pre_classify = RandomForestRegressor(n_estimators=random_forest_estimators, \n",
      "                                                      max_features=random_forest_features)\n",
      "        else:\n",
      "            self.pre_classify = LinearRegression()\n",
      "        self.gradient_boosting_clf = GradientBoostingRegressor(n_estimators=gradient_boosting_estimators)\n",
      "        self.result_clf = LinearRegression(fit_intercept=False)\n",
      "    \n",
      "    def fit(self, train_x, train_y, separate_fitting=True, validation_part=0.5):\n",
      "        if separate_fitting:\n",
      "            base_train_x, validate_train_x, base_train_y, validate_train_y = \\\n",
      "                                    train_test_split(train_x, train_y, train_size=0.5)\n",
      "        else:\n",
      "            base_train_x = validate_train_x = train_x\n",
      "            base_train_y = validate_train_y = train_y\n",
      "            \n",
      "        \n",
      "        self.pre_classify.fit(base_train_x, base_train_y)\n",
      "        self.gradient_boosting_clf.fit(base_train_x, base_train_y)\n",
      "        \n",
      "        new_data = vstack((self.pre_classify.predict(validate_train_x), \n",
      "                      self.gradient_boosting_clf.predict(validate_train_x))).T\n",
      "        \n",
      "        self.result_clf.fit(new_data, validate_train_y)\n",
      "        \n",
      "    def predict(self, test_x):\n",
      "        new_data = vstack((self.pre_classify.predict(test_x), \n",
      "                      self.gradient_boosting_clf.predict(test_x))).T\n",
      "        return self.result_clf.predict(new_data)\n",
      "              "
     ],
     "language": "python",
     "metadata": {},
     "outputs": []
    },
    {
     "cell_type": "code",
     "collapsed": false,
     "input": [
      "clf = CombineClassifier()\n",
      "clf.fit(train_x, train_y, False)\n",
      "result = clf.predict(test_x)\n",
      "print \"Error = {}\".format(mean_squared_error(test_y, result))\n",
      "print \"Train Error = {}\".format(mean_squared_error(clf.predict(train_x), train_y))"
     ],
     "language": "python",
     "metadata": {},
     "outputs": []
    },
    {
     "cell_type": "code",
     "collapsed": false,
     "input": [
      "clf = CombineClassifier(first_classifier=\"LinearRegrssion\")\n",
      "clf.fit(train_x, train_y, False)\n",
      "result = clf.predict(test_x)\n",
      "print \"Error = {}\".format(mean_squared_error(test_y, result))\n",
      "print \"Train Error = {}\".format(mean_squared_error(clf.predict(train_x), train_y))"
     ],
     "language": "python",
     "metadata": {},
     "outputs": []
    },
    {
     "cell_type": "code",
     "collapsed": false,
     "input": [
      "clf = CombineClassifier()\n",
      "clf.fit(train_x, train_y, True)\n",
      "result = clf.predict(test_x)\n",
      "print \"Error = {}\".format(mean_squared_error(test_y, result))\n",
      "print \"Train Error = {}\".format(mean_squared_error(clf.predict(train_x), train_y))"
     ],
     "language": "python",
     "metadata": {},
     "outputs": []
    },
    {
     "cell_type": "code",
     "collapsed": false,
     "input": [
      "clf = CombineClassifier(first_classifier=\"LinearRegrssion\")\n",
      "clf.fit(train_x, train_y, True)\n",
      "result = clf.predict(test_x)\n",
      "print \"Error = {}\".format(mean_squared_error(test_y, result))\n",
      "print \"Train Error = {}\".format(mean_squared_error(clf.predict(train_x), train_y))"
     ],
     "language": "python",
     "metadata": {},
     "outputs": []
    },
    {
     "cell_type": "code",
     "collapsed": false,
     "input": [
      "clf = CombineClassifier()\n",
      "all_validation_parts = arange(0.1, 1, 0.1)\n",
      "all_errors = []\n",
      "for validation_part in all_validation_parts:\n",
      "    clf.fit(train_x, train_y, True, validation_part=validation_part)\n",
      "    result = clf.predict(test_x)\n",
      "    all_errors.append(mean_squared_error(test_y, result))"
     ],
     "language": "python",
     "metadata": {},
     "outputs": []
    },
    {
     "cell_type": "code",
     "collapsed": false,
     "input": [
      "plot(all_validation_parts, all_errors)\n",
      "xlabel('Train Parts')\n",
      "ylabel('MSE')\n",
      "grid(True)"
     ],
     "language": "python",
     "metadata": {},
     "outputs": []
    },
    {
     "cell_type": "code",
     "collapsed": false,
     "input": [],
     "language": "python",
     "metadata": {},
     "outputs": []
    }
   ],
   "metadata": {}
  }
 ]
}
